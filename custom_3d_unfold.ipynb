{
 "cells": [
  {
   "cell_type": "code",
   "execution_count": 1,
   "metadata": {},
   "outputs": [],
   "source": [
    "import numpy as np\n",
    "import cv2 as cv\n",
    "import matplotlib.pyplot as plt\n",
    "from typing import Iterable\n",
    "import padding as P\n",
    "\n",
    "import torch\n",
    "from torch import nn\n",
    "import torch.nn.functional as F\n",
    "from torch import optim\n",
    "from torch.utils import data"
   ]
  },
  {
   "cell_type": "code",
   "execution_count": 2,
   "metadata": {},
   "outputs": [
    {
     "name": "stdout",
     "output_type": "stream",
     "text": [
      "torch.Size([4, 3, 5, 240, 240]) tensor(1.0000) tensor(5.9605e-07)\n"
     ]
    }
   ],
   "source": [
    "bsz, channels, depth, height, width = 4, 3, 5, 240, 240\n",
    "input_size = (bsz, channels, depth, height, width)\n",
    "X = torch.rand(input_size)\n",
    "print(X.shape, X.max(), X.min())"
   ]
  },
  {
   "cell_type": "code",
   "execution_count": 3,
   "metadata": {},
   "outputs": [
    {
     "name": "stdout",
     "output_type": "stream",
     "text": [
      "torch.Size([4, 3, 7, 242, 242])\n"
     ]
    }
   ],
   "source": [
    "_kernel_size = (3, 3, 3)\n",
    "_stride = (1, 2, 3)\n",
    "_dilation = (1, 1, 1)\n",
    "_padding = (1, 1, 1)\n",
    "\n",
    "pad = P.Pad3D(padding=_padding)\n",
    "padded_X = pad(X)\n",
    "print(padded_X.shape)"
   ]
  },
  {
   "cell_type": "code",
   "execution_count": null,
   "metadata": {},
   "outputs": [],
   "source": []
  }
 ],
 "metadata": {
  "interpreter": {
   "hash": "74257a0a5c0181bc4827c74976dbddecd68f5367eb1980f961c7a318e63ecaee"
  },
  "kernelspec": {
   "display_name": "Python 3.11.4 ('base')",
   "language": "python",
   "name": "python3"
  },
  "language_info": {
   "codemirror_mode": {
    "name": "ipython",
    "version": 3
   },
   "file_extension": ".py",
   "mimetype": "text/x-python",
   "name": "python",
   "nbconvert_exporter": "python",
   "pygments_lexer": "ipython3",
   "version": "3.11.4"
  },
  "orig_nbformat": 4
 },
 "nbformat": 4,
 "nbformat_minor": 2
}
