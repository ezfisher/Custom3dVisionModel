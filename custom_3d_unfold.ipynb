{
 "cells": [
  {
   "cell_type": "code",
   "execution_count": 2,
   "metadata": {},
   "outputs": [
    {
     "name": "stdout",
     "output_type": "stream",
     "text": [
      "cuda\n"
     ]
    }
   ],
   "source": [
    "import numpy as np\n",
    "import cv2 as cv\n",
    "import matplotlib.pyplot as plt\n",
    "from typing import Iterable\n",
    "import libs.padding as P\n",
    "\n",
    "import torch\n",
    "from torch import nn\n",
    "import torch.nn.functional as F\n",
    "from torch import optim\n",
    "from torch.utils import data\n",
    "\n",
    "dev = 'cuda' if torch.cuda.is_available() else 'cpu'\n",
    "device = torch.device(dev)\n",
    "print(device)"
   ]
  },
  {
   "cell_type": "code",
   "execution_count": 15,
   "metadata": {},
   "outputs": [],
   "source": [
    "bsz, channels, depth, height, width = 4, 3, 240, 240, 240\n",
    "input_size = (bsz, channels, depth, height, width)"
   ]
  },
  {
   "cell_type": "code",
   "execution_count": 45,
   "metadata": {},
   "outputs": [
    {
     "name": "stdout",
     "output_type": "stream",
     "text": [
      "torch.Size([4, 3, 240, 240, 240])\n",
      "torch.Size([4, 3, 242, 242, 242])\n"
     ]
    }
   ],
   "source": [
    "_kernel_size = (3, 3, 3)\n",
    "_stride = (1, 2, 3)\n",
    "_dilation = (1, 2, 3)\n",
    "_padding = (1, 1, 1)\n",
    "\n",
    "X = torch.rand(input_size)\n",
    "print(X.shape)\n",
    "\n",
    "pad = P.Pad3D(padding=_padding)\n",
    "X = pad(X)\n",
    "print(X.shape)"
   ]
  },
  {
   "cell_type": "code",
   "execution_count": 47,
   "metadata": {},
   "outputs": [
    {
     "name": "stdout",
     "output_type": "stream",
     "text": [
      "tensor([0, 2, 6], dtype=torch.int32)\n",
      "tensor([0, 1, 2, 3, 4]) tensor([0, 2, 4, 6, 8]) tensor([ 0,  3,  6,  9, 12])\n",
      "tensor([4, 5, 6, 7, 8]) tensor([ 5,  7,  9, 11, 13]) tensor([ 6,  9, 12, 15, 18])\n"
     ]
    }
   ],
   "source": [
    "__correction = ((torch.Tensor(_dilation) * torch.Tensor(_stride))-torch.Tensor(_dilation)).type(torch.int)\n",
    "print(__correction)\n",
    "\n",
    "dstarts = torch.arange(0, depth-_kernel_size[0], _stride[0])\n",
    "dends = torch.arange(_kernel_size[0]+(_stride[0]*_dilation[0] - __correction[0]), depth, _stride[0])\n",
    "dstarts = dstarts[:dends.shape[0]]\n",
    "\n",
    "hstarts = torch.arange(0, height-_kernel_size[1], _stride[1])\n",
    "hends = torch.arange(_kernel_size[1]+(_stride[1]*_dilation[1] - __correction[1]), height, _stride[1])\n",
    "hstarts = hstarts[:hends.shape[0]]\n",
    "\n",
    "wstarts = torch.arange(0, width-_kernel_size[2], _stride[2])\n",
    "wends = torch.arange(_kernel_size[2]+(_stride[2]*_dilation[2] - __correction[2]), width, _stride[2])\n",
    "wstarts = wstarts[:wends.shape[0]]\n",
    "\n",
    "print(dstarts[:5], hstarts[:5], wstarts[:5])\n",
    "print(dends[:5], hends[:5], wends[:5])"
   ]
  },
  {
   "cell_type": "code",
   "execution_count": null,
   "metadata": {},
   "outputs": [],
   "source": []
  },
  {
   "cell_type": "code",
   "execution_count": null,
   "metadata": {},
   "outputs": [],
   "source": []
  },
  {
   "cell_type": "code",
   "execution_count": null,
   "metadata": {},
   "outputs": [],
   "source": []
  }
 ],
 "metadata": {
  "interpreter": {
   "hash": "74257a0a5c0181bc4827c74976dbddecd68f5367eb1980f961c7a318e63ecaee"
  },
  "kernelspec": {
   "display_name": "Python 3.11.4 ('base')",
   "language": "python",
   "name": "python3"
  },
  "language_info": {
   "codemirror_mode": {
    "name": "ipython",
    "version": 3
   },
   "file_extension": ".py",
   "mimetype": "text/x-python",
   "name": "python",
   "nbconvert_exporter": "python",
   "pygments_lexer": "ipython3",
   "version": "3.9.12"
  },
  "orig_nbformat": 4
 },
 "nbformat": 4,
 "nbformat_minor": 2
}
