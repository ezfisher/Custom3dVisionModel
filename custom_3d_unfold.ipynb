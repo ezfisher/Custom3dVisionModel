{
 "cells": [
  {
   "cell_type": "code",
   "execution_count": 1,
   "metadata": {},
   "outputs": [],
   "source": [
    "import numpy as np\n",
    "import cv2 as cv\n",
    "import matplotlib.pyplot as plt\n",
    "\n",
    "import torch\n",
    "from torch import nn\n",
    "import torch.nn.functional as F\n",
    "from torch import optim\n",
    "from torch.utils import data"
   ]
  },
  {
   "cell_type": "code",
   "execution_count": 2,
   "metadata": {},
   "outputs": [
    {
     "name": "stdout",
     "output_type": "stream",
     "text": [
      "torch.Size([4, 3, 5, 240, 240]) tensor(1.0000) tensor(4.7684e-07)\n"
     ]
    }
   ],
   "source": [
    "bsz, channels, depth, height, width = 4, 3, 5, 240, 240\n",
    "input_size = (bsz, channels, depth, height, width)\n",
    "X = torch.rand(input_size)\n",
    "print(X.shape, X.max(), X.min())"
   ]
  },
  {
   "cell_type": "code",
   "execution_count": 3,
   "metadata": {},
   "outputs": [
    {
     "name": "stdout",
     "output_type": "stream",
     "text": [
      "torch.Size([4, 3, 7, 242, 242])\n"
     ]
    }
   ],
   "source": [
    "kernel_size = (3, 3, 3)\n",
    "stride = (1, 2, 3)\n",
    "dilation = (1, 1, 1)\n",
    "padding = ((1, 1), (1, 1), (1, 1))\n",
    "(dp0, dp1), (hp0, hp1), (wp0, wp1) = padding\n",
    "depth_zeros_0 = torch.zeros(X[:, :, 0, :, :].unsqueeze(-3).shape)\n",
    "depth_zeros_1 = torch.zeros(X[:, :, 0, :, :].unsqueeze(-3).shape)\n",
    "depth_pad_X = torch.concat((depth_zeros_0, X, depth_zeros_1), dim=-3)\n",
    "\n",
    "height_zeros_0 = torch.zeros(depth_pad_X[:, :, :, 0, :].unsqueeze(-2).shape)\n",
    "height_zeros_1 = torch.zeros(depth_pad_X[:, :, :, 0, :].unsqueeze(-2).shape)\n",
    "hd_pad_X = torch.concat((height_zeros_0, depth_pad_X, height_zeros_1), dim=-2)\n",
    "\n",
    "width_zeros_0 = torch.zeros(hd_pad_X[:, :, :, :, 0].unsqueeze(-1).shape)\n",
    "width_zeros_1 = torch.zeros(hd_pad_X[:, :, :, :, 0].unsqueeze(-1).shape)\n",
    "whd_pad_X = torch.concat((width_zeros_0, hd_pad_X, width_zeros_1), dim=-1)\n",
    "print(whd_pad_X.shape)"
   ]
  },
  {
   "cell_type": "code",
   "execution_count": null,
   "metadata": {},
   "outputs": [],
   "source": [
    "class Pad(nn.Module):\n",
    "    def __init__(self, )"
   ]
  }
 ],
 "metadata": {
  "interpreter": {
   "hash": "74257a0a5c0181bc4827c74976dbddecd68f5367eb1980f961c7a318e63ecaee"
  },
  "kernelspec": {
   "display_name": "Python 3.11.4 ('base')",
   "language": "python",
   "name": "python3"
  },
  "language_info": {
   "codemirror_mode": {
    "name": "ipython",
    "version": 3
   },
   "file_extension": ".py",
   "mimetype": "text/x-python",
   "name": "python",
   "nbconvert_exporter": "python",
   "pygments_lexer": "ipython3",
   "version": "3.11.4"
  },
  "orig_nbformat": 4
 },
 "nbformat": 4,
 "nbformat_minor": 2
}
