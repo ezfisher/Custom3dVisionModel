{
 "cells": [
  {
   "cell_type": "code",
   "execution_count": 1,
   "metadata": {},
   "outputs": [
    {
     "name": "stdout",
     "output_type": "stream",
     "text": [
      "cpu\n"
     ]
    }
   ],
   "source": [
    "import numpy as np\n",
    "import cv2 as cv\n",
    "import matplotlib.pyplot as plt\n",
    "from typing import Iterable\n",
    "import libs.padding as P\n",
    "\n",
    "import torch\n",
    "from torch import nn\n",
    "import torch.nn.functional as F\n",
    "from torch import optim\n",
    "from torch.utils import data\n",
    "\n",
    "dev = 'cuda' if torch.cuda.is_available() else 'cpu'\n",
    "device = torch.device(dev)\n",
    "print(device)"
   ]
  },
  {
   "cell_type": "code",
   "execution_count": 2,
   "metadata": {},
   "outputs": [],
   "source": [
    "bsz, channels, depth, height, width = 4, 3, 24, 24, 24\n",
    "input_size = (bsz, channels, depth, height, width)"
   ]
  },
  {
   "cell_type": "code",
   "execution_count": 3,
   "metadata": {},
   "outputs": [
    {
     "name": "stdout",
     "output_type": "stream",
     "text": [
      "torch.Size([4, 3, 24, 24, 24])\n",
      "torch.Size([4, 3, 26, 26, 26])\n"
     ]
    }
   ],
   "source": [
    "_kernel_size = torch.Tensor((3, 3, 3)).int()\n",
    "_stride = torch.Tensor((1, 2, 3)).int()\n",
    "_dilation = torch.Tensor((0, 1, 2)).int()\n",
    "_padding = torch.Tensor((1, 1, 1)).int()\n",
    "\n",
    "X = torch.rand(input_size)\n",
    "print(X.shape)\n",
    "\n",
    "pad = P.Pad3D(padding=_padding)\n",
    "Xpad = pad(X)\n",
    "print(Xpad.shape)"
   ]
  },
  {
   "cell_type": "code",
   "execution_count": 8,
   "metadata": {},
   "outputs": [],
   "source": [
    "class Unfold3d(nn.Module):\n",
    "    def __init__(self, kernel_size, stride, padding, dilation):\n",
    "        super().__init__()\n",
    "        self.pad = P.Pad3D(padding)\n",
    "        self.kernel_size = torch.Tensor(kernel_size).flatten().int()\n",
    "        self.stride = torch.Tensor(stride).flatten().int()\n",
    "        self.dilation = torch.Tensor(dilation).flatten().int()\n",
    "\n",
    "    def _dstarts(self, _d):\n",
    "        return torch.arange(0, _d-self.kernel_size[0], self.stride[0])\n",
    "\n",
    "    def _hstarts(self, _h):\n",
    "        return torch.arange(0, _h-self.kernel_size[1], self.stride[1])\n",
    "\n",
    "    def _wstarts(self, _w):\n",
    "        return torch.arange(0, _w-self.kernel_size[2], self.stride[2])\n",
    "    \n",
    "    def forward(self, X):\n",
    "        out = self.pad(X)\n",
    "        _, _, _d, _h, _w = out.shape\n",
    "        windows = torch.stack(torch.meshgrid(self._dstarts(_d), self._hstarts(_h), self._wstarts(_w), indexing='ij'), dim=3).reshape((-1, 3))"
   ]
  },
  {
   "cell_type": "code",
   "execution_count": 16,
   "metadata": {},
   "outputs": [
    {
     "name": "stdout",
     "output_type": "stream",
     "text": [
      "tensor([0, 0, 0]) tensor([3, 5, 7])\n"
     ]
    }
   ],
   "source": [
    "_, _, _d, _h, _w = Xpad.shape\n",
    "_midpoints = (_kernel_size - 1).int()\n",
    "\n",
    "dstarts = torch.arange(0, _d-_kernel_size[0], _stride[0])\n",
    "dends = dstarts + _kernel_size[0] + _dilation[0] * _midpoints[0]\n",
    "\n",
    "hstarts = torch.arange(0, _h-_kernel_size[1], _stride[1])\n",
    "hends = hstarts + _kernel_size[1] + _dilation[1] * _midpoints[1]\n",
    "\n",
    "wstarts = torch.arange(0, _w-_kernel_size[2], _stride[2])\n",
    "wends = wstarts + _kernel_size[2] + _dilation[2] * _midpoints[2]\n",
    "\n",
    "window_starts = torch.stack(torch.meshgrid(dstarts, hstarts, wstarts, indexing='ij'), dim=3).reshape((-1, 3))\n",
    "window_ends = torch.stack(torch.meshgrid(dends, hends, wends, indexing='ij'), dim=3).reshape((-1, 3))\n",
    "window_mult = torch.zeros((window_ends[0][0]-window_starts[0][0], window_ends[0][1]-window_starts[0][1], window_ends[0][2]-window_starts[0][2]))\n",
    "\n",
    "for i in range(window_starts.shape[0]):\n",
    "    start, end = window_starts[i], window_ends[i]\n",
    "    print(start, end)\n",
    "    break"
   ]
  },
  {
   "cell_type": "code",
   "execution_count": 12,
   "metadata": {},
   "outputs": [
    {
     "name": "stdout",
     "output_type": "stream",
     "text": [
      "tensor([[1.]])\n",
      "tensor([[1.]])\n"
     ]
    }
   ],
   "source": []
  },
  {
   "cell_type": "code",
   "execution_count": null,
   "metadata": {},
   "outputs": [],
   "source": []
  }
 ],
 "metadata": {
  "interpreter": {
   "hash": "74257a0a5c0181bc4827c74976dbddecd68f5367eb1980f961c7a318e63ecaee"
  },
  "kernelspec": {
   "display_name": "Python 3.11.4 ('base')",
   "language": "python",
   "name": "python3"
  },
  "language_info": {
   "codemirror_mode": {
    "name": "ipython",
    "version": 3
   },
   "file_extension": ".py",
   "mimetype": "text/x-python",
   "name": "python",
   "nbconvert_exporter": "python",
   "pygments_lexer": "ipython3",
   "version": "3.11.7"
  },
  "orig_nbformat": 4
 },
 "nbformat": 4,
 "nbformat_minor": 2
}
