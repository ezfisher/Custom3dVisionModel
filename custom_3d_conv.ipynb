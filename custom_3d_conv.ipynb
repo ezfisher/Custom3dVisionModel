{
 "cells": [
  {
   "cell_type": "code",
   "execution_count": 1,
   "metadata": {},
   "outputs": [
    {
     "name": "stdout",
     "output_type": "stream",
     "text": [
      "cpu\n"
     ]
    }
   ],
   "source": [
    "import numpy as np\n",
    "import cv2 as cv\n",
    "import matplotlib.pyplot as plt\n",
    "from typing import Iterable\n",
    "import time\n",
    "\n",
    "import libs.conv as conv\n",
    "import libs.max_pool as max_pool\n",
    "\n",
    "import torch\n",
    "from torch import nn\n",
    "import torch.nn.functional as F\n",
    "from torch import optim\n",
    "from torch.utils import data\n",
    "\n",
    "dev = 'cuda' if torch.cuda.is_available() else 'cpu'\n",
    "device = torch.device(dev)\n",
    "print(device)"
   ]
  },
  {
   "cell_type": "code",
   "execution_count": 2,
   "metadata": {},
   "outputs": [
    {
     "name": "stdout",
     "output_type": "stream",
     "text": [
      "torch.Size([4, 3, 224, 224, 224])\n"
     ]
    }
   ],
   "source": [
    "bsz, channels, depth, height, width = 4, 3, 224, 224, 224\n",
    "input_size = (bsz, channels, depth, height, width)\n",
    "padding = (2, 2, 2, 2, 2, 2)\n",
    "kernel_size = (3, 3, 3)\n",
    "stride = (1, 1, 1)\n",
    "X = torch.rand(input_size)\n",
    "print(X.shape)"
   ]
  },
  {
   "cell_type": "code",
   "execution_count": 3,
   "metadata": {},
   "outputs": [],
   "source": [
    "def compare_times(layer1, layer2, n_trials):\n",
    "    times1, times2 = [], []\n",
    "    for _ in range(n_trials):\n",
    "        start = time.time()\n",
    "        out = layer1(X)\n",
    "        times1.append(time.time() - start)\n",
    "\n",
    "        start = time.time()\n",
    "        out = layer2(X)\n",
    "        times2.append(time.time() - start)\n",
    "    return times1, times2"
   ]
  },
  {
   "cell_type": "code",
   "execution_count": 4,
   "metadata": {},
   "outputs": [],
   "source": [
    "# custom_conv3d = conv.CustomConv3d(in_channels=3, out_channels=5, kernel_size=(3, 3, 3), stride=(1, 1, 1), padding=(1, 1, 1))\n",
    "# control_conv3d = nn.Conv3d(in_channels=3, out_channels=5, kernel_size=(3, 3, 3), stride=(1, 1, 1), padding=(1, 1, 1))\n",
    "# custom_times, control_times = [], []\n",
    "\n",
    "# n_trials = 100\n",
    "# custom_times, control_times = compare_times(custom_conv3d, control_conv3d, n_trials)\n",
    "# print(f'mean\\ncustom: {np.mean(custom_times)}\\ncontrol: {np.mean(control_times)}\\nstd\\ncustom: {np.std(custom_times)}\\ncontrol: {np.std(control_times)}')"
   ]
  },
  {
   "cell_type": "code",
   "execution_count": 6,
   "metadata": {},
   "outputs": [
    {
     "name": "stdout",
     "output_type": "stream",
     "text": [
      "torch.Size([4, 5, 222, 222, 222])\n"
     ]
    }
   ],
   "source": [
    "conv = conv.CustomConv3d(in_channels=3, out_channels=5, kernel_size=(3, 3, 3), stride=(1, 1, 1), padding=(1, 1, 1))\n",
    "pool = max_pool.MaxPool3d(kernel_size=(3, 3, 3), stride=(1, 1, 1))\n",
    "out = pool(conv(X))\n",
    "print(out.shape)"
   ]
  },
  {
   "cell_type": "code",
   "execution_count": null,
   "metadata": {},
   "outputs": [],
   "source": []
  }
 ],
 "metadata": {
  "interpreter": {
   "hash": "74257a0a5c0181bc4827c74976dbddecd68f5367eb1980f961c7a318e63ecaee"
  },
  "kernelspec": {
   "display_name": "Python 3.11.4 ('base')",
   "language": "python",
   "name": "python3"
  },
  "language_info": {
   "codemirror_mode": {
    "name": "ipython",
    "version": 3
   },
   "file_extension": ".py",
   "mimetype": "text/x-python",
   "name": "python",
   "nbconvert_exporter": "python",
   "pygments_lexer": "ipython3",
   "version": "3.12.2"
  },
  "orig_nbformat": 4
 },
 "nbformat": 4,
 "nbformat_minor": 2
}
