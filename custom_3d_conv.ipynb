{
 "cells": [
  {
   "cell_type": "code",
   "execution_count": 1,
   "metadata": {},
   "outputs": [
    {
     "name": "stdout",
     "output_type": "stream",
     "text": [
      "cpu\n"
     ]
    }
   ],
   "source": [
    "import numpy as np\n",
    "import cv2 as cv\n",
    "import matplotlib.pyplot as plt\n",
    "from typing import Iterable\n",
    "import libs.conv as conv\n",
    "\n",
    "import torch\n",
    "from torch import nn\n",
    "import torch.nn.functional as F\n",
    "from torch import optim\n",
    "from torch.utils import data\n",
    "\n",
    "dev = 'cuda' if torch.cuda.is_available() else 'cpu'\n",
    "device = torch.device(dev)\n",
    "print(device)"
   ]
  },
  {
   "cell_type": "code",
   "execution_count": 2,
   "metadata": {},
   "outputs": [
    {
     "name": "stdout",
     "output_type": "stream",
     "text": [
      "torch.Size([4, 3, 224, 224, 224])\n"
     ]
    }
   ],
   "source": [
    "bsz, channels, depth, height, width = 4, 3, 224, 224, 224\n",
    "input_size = (bsz, channels, depth, height, width)\n",
    "padding = (2, 2, 2, 2, 2, 2)\n",
    "kernel_size = (3, 3, 3)\n",
    "stride = (1, 1, 1)\n",
    "X = torch.rand(input_size)\n",
    "print(X.shape)"
   ]
  },
  {
   "cell_type": "code",
   "execution_count": 3,
   "metadata": {},
   "outputs": [],
   "source": [
    "# class CustomConv3d(nn.Module):\n",
    "#     def __init__(self, in_channels, out_channels, kernel_size, stride, padding, dilation=1, groups=1, bias=False):\n",
    "#         super().__init__()\n",
    "#         self.__weight_dh = torch.nn.Parameter(torch.rand((out_channels, in_channels, kernel_size[0], kernel_size[1])))\n",
    "#         self.__weight_dw = torch.nn.Parameter(torch.rand((out_channels, in_channels, kernel_size[0], kernel_size[2])))\n",
    "#         self.__weight_hw = torch.nn.Parameter(torch.rand((out_channels, in_channels, kernel_size[1], kernel_size[2])))\n",
    "#         self.weight = nn.ParameterList([self.__weight_dh, self.__weight_dw, self.__weight_hw])\n",
    "#         self.bias = torch.nn.Parameter(torch.rand(out_channels)) if bias else None\n",
    "#         self.__padding_dh = (padding[0], padding[1])\n",
    "#         self.__padding_dw = (padding[0], padding[2])\n",
    "#         self.__padding_hw = (padding[1], padding[2])\n",
    "#         self.__stride_dh = (stride[0], stride[1])\n",
    "#         self.__stride_dw = (stride[0], stride[2])\n",
    "#         self.__stride_hw = (stride[1], stride[2])\n",
    "#         self.__padding_mode = 'zeros'\n",
    "#         self.__dilation = dilation\n",
    "#         self.__groups = groups\n",
    "    \n",
    "#     def forward(self, X):\n",
    "#         outdh, outdw, outhw = X.sum(dim=-1), X.sum(dim=-2), X.sum(dim=-3)\n",
    "#         outdh = F.conv2d(outdh, self.__weight_dh, self.bias, self.__stride_dh, self.__padding_dh, self.__dilation, self.__groups)\n",
    "#         outdw = F.conv2d(outdw, self.__weight_dw, self.bias, self.__stride_dw, self.__padding_dw, self.__dilation, self.__groups)\n",
    "#         outhw = F.conv2d(outhw, self.__weight_hw, self.bias, self.__stride_hw, self.__padding_hw, self.__dilation, self.__groups)\n",
    "#         out = outdh.unsqueeze(-1) + outdw.unsqueeze(-2) + outhw.unsqueeze(-3)\n",
    "#         return out"
   ]
  },
  {
   "cell_type": "code",
   "execution_count": 4,
   "metadata": {},
   "outputs": [],
   "source": [
    "def compare_times(layer1, layer2, n_trials):\n",
    "    times1, times2 = [], []\n",
    "    for _ in range(n_trials):\n",
    "        start = time.time()\n",
    "        out = layer1(X)\n",
    "        times1.append(time.time() - start)\n",
    "\n",
    "        start = time.time()\n",
    "        out = layer2(X)\n",
    "        times2.append(time.time() - start)\n",
    "    return times1, times2"
   ]
  },
  {
   "cell_type": "code",
   "execution_count": 5,
   "metadata": {},
   "outputs": [
    {
     "name": "stdout",
     "output_type": "stream",
     "text": [
      "mean\n",
      "custom: 0.6872379779815674\n",
      "control: 1.5390276908874512\n",
      "std\n",
      "custom: 0.0\n",
      "control: 0.0\n"
     ]
    }
   ],
   "source": [
    "import time\n",
    "\n",
    "custom_conv3d = conv.CustomConv3d(in_channels=3, out_channels=5, kernel_size=(3, 3, 3), stride=(1, 1, 1), padding=(1, 1, 1))\n",
    "control_conv3d = nn.Conv3d(in_channels=3, out_channels=5, kernel_size=(3, 3, 3), stride=(1, 1, 1), padding=(1, 1, 1))\n",
    "custom_times, control_times = [], []\n",
    "\n",
    "n_trials = 1\n",
    "custom_times, control_times = compare_times(custom_conv3d, control_conv3d, n_trials)\n",
    "print(f'mean\\ncustom: {np.mean(custom_times)}\\ncontrol: {np.mean(control_times)}\\nstd\\ncustom: {np.std(custom_times)}\\ncontrol: {np.std(control_times)}')"
   ]
  },
  {
   "cell_type": "code",
   "execution_count": null,
   "metadata": {},
   "outputs": [],
   "source": []
  }
 ],
 "metadata": {
  "interpreter": {
   "hash": "74257a0a5c0181bc4827c74976dbddecd68f5367eb1980f961c7a318e63ecaee"
  },
  "kernelspec": {
   "display_name": "Python 3.11.4 ('base')",
   "language": "python",
   "name": "python3"
  },
  "language_info": {
   "codemirror_mode": {
    "name": "ipython",
    "version": 3
   },
   "file_extension": ".py",
   "mimetype": "text/x-python",
   "name": "python",
   "nbconvert_exporter": "python",
   "pygments_lexer": "ipython3",
   "version": "3.12.2"
  },
  "orig_nbformat": 4
 },
 "nbformat": 4,
 "nbformat_minor": 2
}
